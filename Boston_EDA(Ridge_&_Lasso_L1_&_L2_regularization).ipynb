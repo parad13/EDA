{
  "nbformat": 4,
  "nbformat_minor": 0,
  "metadata": {
    "colab": {
      "name": "Boston EDA(Ridge & Lasso L1 & L2 regularization)",
      "provenance": [],
      "authorship_tag": "ABX9TyNU+a2RUoMjV27dvr7ZH0jp",
      "include_colab_link": true
    },
    "kernelspec": {
      "name": "python3",
      "display_name": "Python 3"
    },
    "language_info": {
      "name": "python"
    }
  },
  "cells": [
    {
      "cell_type": "markdown",
      "metadata": {
        "id": "view-in-github",
        "colab_type": "text"
      },
      "source": [
        "<a href=\"https://colab.research.google.com/github/parad13/EDA_ML/blob/main/Boston_EDA(Ridge_%26_Lasso_L1_%26_L2_regularization).ipynb\" target=\"_parent\"><img src=\"https://colab.research.google.com/assets/colab-badge.svg\" alt=\"Open In Colab\"/></a>"
      ]
    },
    {
      "cell_type": "code",
      "metadata": {
        "id": "FPOgsZomu45t"
      },
      "source": [
        "import numpy as np\n",
        "import pandas as pd\n",
        "import seaborn as sns\n",
        "import matplotlib.pyplot as plt\n"
      ],
      "execution_count": null,
      "outputs": []
    },
    {
      "cell_type": "code",
      "metadata": {
        "id": "vB3FPQ-g4RmO"
      },
      "source": [
        "sns.set_style(\"whitegrid\")\n",
        "sns.set_style(\"ticks\", {\"xtick.major.size\": 8, \"ytick.major.size\": 8})"
      ],
      "execution_count": null,
      "outputs": []
    },
    {
      "cell_type": "code",
      "metadata": {
        "id": "FeyPxFY64AY1"
      },
      "source": [
        "from sklearn.datasets import load_boston"
      ],
      "execution_count": null,
      "outputs": []
    },
    {
      "cell_type": "code",
      "metadata": {
        "id": "1E_1fDbJ4DS_"
      },
      "source": [
        "df = load_boston()"
      ],
      "execution_count": null,
      "outputs": []
    },
    {
      "cell_type": "code",
      "metadata": {
        "id": "foCbPYTm4bH9"
      },
      "source": [
        "dataset = pd.DataFrame(df.data)"
      ],
      "execution_count": null,
      "outputs": []
    },
    {
      "cell_type": "code",
      "metadata": {
        "colab": {
          "base_uri": "https://localhost:8080/"
        },
        "id": "MY_ldsd85pxp",
        "outputId": "2903269d-038d-4ffd-de8b-752713d5ccd3"
      },
      "source": [
        "print(dataset.head())"
      ],
      "execution_count": null,
      "outputs": [
        {
          "output_type": "stream",
          "text": [
            "        0     1     2    3      4   ...   8      9     10      11    12\n",
            "0  0.00632  18.0  2.31  0.0  0.538  ...  1.0  296.0  15.3  396.90  4.98\n",
            "1  0.02731   0.0  7.07  0.0  0.469  ...  2.0  242.0  17.8  396.90  9.14\n",
            "2  0.02729   0.0  7.07  0.0  0.469  ...  2.0  242.0  17.8  392.83  4.03\n",
            "3  0.03237   0.0  2.18  0.0  0.458  ...  3.0  222.0  18.7  394.63  2.94\n",
            "4  0.06905   0.0  2.18  0.0  0.458  ...  3.0  222.0  18.7  396.90  5.33\n",
            "\n",
            "[5 rows x 13 columns]\n"
          ],
          "name": "stdout"
        }
      ]
    },
    {
      "cell_type": "code",
      "metadata": {
        "id": "GbsPVoXk6OJx"
      },
      "source": [
        "dataset.columns = df.feature_names"
      ],
      "execution_count": null,
      "outputs": []
    },
    {
      "cell_type": "code",
      "metadata": {
        "colab": {
          "base_uri": "https://localhost:8080/",
          "height": 224
        },
        "id": "CaOaExm06pH4",
        "outputId": "0e0a8e49-3c41-4e41-d28a-cb91abb6a7bb"
      },
      "source": [
        "dataset.head()"
      ],
      "execution_count": null,
      "outputs": [
        {
          "output_type": "execute_result",
          "data": {
            "text/html": [
              "<div>\n",
              "<style scoped>\n",
              "    .dataframe tbody tr th:only-of-type {\n",
              "        vertical-align: middle;\n",
              "    }\n",
              "\n",
              "    .dataframe tbody tr th {\n",
              "        vertical-align: top;\n",
              "    }\n",
              "\n",
              "    .dataframe thead th {\n",
              "        text-align: right;\n",
              "    }\n",
              "</style>\n",
              "<table border=\"1\" class=\"dataframe\">\n",
              "  <thead>\n",
              "    <tr style=\"text-align: right;\">\n",
              "      <th></th>\n",
              "      <th>CRIM</th>\n",
              "      <th>ZN</th>\n",
              "      <th>INDUS</th>\n",
              "      <th>CHAS</th>\n",
              "      <th>NOX</th>\n",
              "      <th>RM</th>\n",
              "      <th>AGE</th>\n",
              "      <th>DIS</th>\n",
              "      <th>RAD</th>\n",
              "      <th>TAX</th>\n",
              "      <th>PTRATIO</th>\n",
              "      <th>B</th>\n",
              "      <th>LSTAT</th>\n",
              "    </tr>\n",
              "  </thead>\n",
              "  <tbody>\n",
              "    <tr>\n",
              "      <th>0</th>\n",
              "      <td>0.00632</td>\n",
              "      <td>18.0</td>\n",
              "      <td>2.31</td>\n",
              "      <td>0.0</td>\n",
              "      <td>0.538</td>\n",
              "      <td>6.575</td>\n",
              "      <td>65.2</td>\n",
              "      <td>4.0900</td>\n",
              "      <td>1.0</td>\n",
              "      <td>296.0</td>\n",
              "      <td>15.3</td>\n",
              "      <td>396.90</td>\n",
              "      <td>4.98</td>\n",
              "    </tr>\n",
              "    <tr>\n",
              "      <th>1</th>\n",
              "      <td>0.02731</td>\n",
              "      <td>0.0</td>\n",
              "      <td>7.07</td>\n",
              "      <td>0.0</td>\n",
              "      <td>0.469</td>\n",
              "      <td>6.421</td>\n",
              "      <td>78.9</td>\n",
              "      <td>4.9671</td>\n",
              "      <td>2.0</td>\n",
              "      <td>242.0</td>\n",
              "      <td>17.8</td>\n",
              "      <td>396.90</td>\n",
              "      <td>9.14</td>\n",
              "    </tr>\n",
              "    <tr>\n",
              "      <th>2</th>\n",
              "      <td>0.02729</td>\n",
              "      <td>0.0</td>\n",
              "      <td>7.07</td>\n",
              "      <td>0.0</td>\n",
              "      <td>0.469</td>\n",
              "      <td>7.185</td>\n",
              "      <td>61.1</td>\n",
              "      <td>4.9671</td>\n",
              "      <td>2.0</td>\n",
              "      <td>242.0</td>\n",
              "      <td>17.8</td>\n",
              "      <td>392.83</td>\n",
              "      <td>4.03</td>\n",
              "    </tr>\n",
              "    <tr>\n",
              "      <th>3</th>\n",
              "      <td>0.03237</td>\n",
              "      <td>0.0</td>\n",
              "      <td>2.18</td>\n",
              "      <td>0.0</td>\n",
              "      <td>0.458</td>\n",
              "      <td>6.998</td>\n",
              "      <td>45.8</td>\n",
              "      <td>6.0622</td>\n",
              "      <td>3.0</td>\n",
              "      <td>222.0</td>\n",
              "      <td>18.7</td>\n",
              "      <td>394.63</td>\n",
              "      <td>2.94</td>\n",
              "    </tr>\n",
              "    <tr>\n",
              "      <th>4</th>\n",
              "      <td>0.06905</td>\n",
              "      <td>0.0</td>\n",
              "      <td>2.18</td>\n",
              "      <td>0.0</td>\n",
              "      <td>0.458</td>\n",
              "      <td>7.147</td>\n",
              "      <td>54.2</td>\n",
              "      <td>6.0622</td>\n",
              "      <td>3.0</td>\n",
              "      <td>222.0</td>\n",
              "      <td>18.7</td>\n",
              "      <td>396.90</td>\n",
              "      <td>5.33</td>\n",
              "    </tr>\n",
              "  </tbody>\n",
              "</table>\n",
              "</div>"
            ],
            "text/plain": [
              "      CRIM    ZN  INDUS  CHAS    NOX  ...  RAD    TAX  PTRATIO       B  LSTAT\n",
              "0  0.00632  18.0   2.31   0.0  0.538  ...  1.0  296.0     15.3  396.90   4.98\n",
              "1  0.02731   0.0   7.07   0.0  0.469  ...  2.0  242.0     17.8  396.90   9.14\n",
              "2  0.02729   0.0   7.07   0.0  0.469  ...  2.0  242.0     17.8  392.83   4.03\n",
              "3  0.03237   0.0   2.18   0.0  0.458  ...  3.0  222.0     18.7  394.63   2.94\n",
              "4  0.06905   0.0   2.18   0.0  0.458  ...  3.0  222.0     18.7  396.90   5.33\n",
              "\n",
              "[5 rows x 13 columns]"
            ]
          },
          "metadata": {
            "tags": []
          },
          "execution_count": 35
        }
      ]
    },
    {
      "cell_type": "code",
      "metadata": {
        "colab": {
          "base_uri": "https://localhost:8080/"
        },
        "id": "bhqloNdX6yCN",
        "outputId": "fa057a65-27d3-4638-fab4-b9c4a7cafc16"
      },
      "source": [
        "df.target.shape"
      ],
      "execution_count": null,
      "outputs": [
        {
          "output_type": "execute_result",
          "data": {
            "text/plain": [
              "(506,)"
            ]
          },
          "metadata": {
            "tags": []
          },
          "execution_count": 37
        }
      ]
    },
    {
      "cell_type": "code",
      "metadata": {
        "colab": {
          "base_uri": "https://localhost:8080/"
        },
        "id": "NRqrepwD65I8",
        "outputId": "dd2d4276-16ec-4ebe-a4e3-a4bcc4b38ab8"
      },
      "source": [
        "dataset.price = df.target"
      ],
      "execution_count": null,
      "outputs": [
        {
          "output_type": "stream",
          "text": [
            "/usr/local/lib/python3.7/dist-packages/ipykernel_launcher.py:1: UserWarning: Pandas doesn't allow columns to be created via a new attribute name - see https://pandas.pydata.org/pandas-docs/stable/indexing.html#attribute-access\n",
            "  \"\"\"Entry point for launching an IPython kernel.\n"
          ],
          "name": "stderr"
        }
      ]
    },
    {
      "cell_type": "code",
      "metadata": {
        "id": "yK9Qxrwf7OGl"
      },
      "source": [
        "dataset.price"
      ],
      "execution_count": null,
      "outputs": []
    },
    {
      "cell_type": "code",
      "metadata": {
        "colab": {
          "base_uri": "https://localhost:8080/",
          "height": 224
        },
        "id": "oTEG6dU47SDT",
        "outputId": "3bde474d-0b3a-468f-9211-3d2b151854e8"
      },
      "source": [
        "dataset.head()"
      ],
      "execution_count": null,
      "outputs": [
        {
          "output_type": "execute_result",
          "data": {
            "text/html": [
              "<div>\n",
              "<style scoped>\n",
              "    .dataframe tbody tr th:only-of-type {\n",
              "        vertical-align: middle;\n",
              "    }\n",
              "\n",
              "    .dataframe tbody tr th {\n",
              "        vertical-align: top;\n",
              "    }\n",
              "\n",
              "    .dataframe thead th {\n",
              "        text-align: right;\n",
              "    }\n",
              "</style>\n",
              "<table border=\"1\" class=\"dataframe\">\n",
              "  <thead>\n",
              "    <tr style=\"text-align: right;\">\n",
              "      <th></th>\n",
              "      <th>CRIM</th>\n",
              "      <th>ZN</th>\n",
              "      <th>INDUS</th>\n",
              "      <th>CHAS</th>\n",
              "      <th>NOX</th>\n",
              "      <th>RM</th>\n",
              "      <th>AGE</th>\n",
              "      <th>DIS</th>\n",
              "      <th>RAD</th>\n",
              "      <th>TAX</th>\n",
              "      <th>PTRATIO</th>\n",
              "      <th>B</th>\n",
              "      <th>LSTAT</th>\n",
              "    </tr>\n",
              "  </thead>\n",
              "  <tbody>\n",
              "    <tr>\n",
              "      <th>0</th>\n",
              "      <td>0.00632</td>\n",
              "      <td>18.0</td>\n",
              "      <td>2.31</td>\n",
              "      <td>0.0</td>\n",
              "      <td>0.538</td>\n",
              "      <td>6.575</td>\n",
              "      <td>65.2</td>\n",
              "      <td>4.0900</td>\n",
              "      <td>1.0</td>\n",
              "      <td>296.0</td>\n",
              "      <td>15.3</td>\n",
              "      <td>396.90</td>\n",
              "      <td>4.98</td>\n",
              "    </tr>\n",
              "    <tr>\n",
              "      <th>1</th>\n",
              "      <td>0.02731</td>\n",
              "      <td>0.0</td>\n",
              "      <td>7.07</td>\n",
              "      <td>0.0</td>\n",
              "      <td>0.469</td>\n",
              "      <td>6.421</td>\n",
              "      <td>78.9</td>\n",
              "      <td>4.9671</td>\n",
              "      <td>2.0</td>\n",
              "      <td>242.0</td>\n",
              "      <td>17.8</td>\n",
              "      <td>396.90</td>\n",
              "      <td>9.14</td>\n",
              "    </tr>\n",
              "    <tr>\n",
              "      <th>2</th>\n",
              "      <td>0.02729</td>\n",
              "      <td>0.0</td>\n",
              "      <td>7.07</td>\n",
              "      <td>0.0</td>\n",
              "      <td>0.469</td>\n",
              "      <td>7.185</td>\n",
              "      <td>61.1</td>\n",
              "      <td>4.9671</td>\n",
              "      <td>2.0</td>\n",
              "      <td>242.0</td>\n",
              "      <td>17.8</td>\n",
              "      <td>392.83</td>\n",
              "      <td>4.03</td>\n",
              "    </tr>\n",
              "    <tr>\n",
              "      <th>3</th>\n",
              "      <td>0.03237</td>\n",
              "      <td>0.0</td>\n",
              "      <td>2.18</td>\n",
              "      <td>0.0</td>\n",
              "      <td>0.458</td>\n",
              "      <td>6.998</td>\n",
              "      <td>45.8</td>\n",
              "      <td>6.0622</td>\n",
              "      <td>3.0</td>\n",
              "      <td>222.0</td>\n",
              "      <td>18.7</td>\n",
              "      <td>394.63</td>\n",
              "      <td>2.94</td>\n",
              "    </tr>\n",
              "    <tr>\n",
              "      <th>4</th>\n",
              "      <td>0.06905</td>\n",
              "      <td>0.0</td>\n",
              "      <td>2.18</td>\n",
              "      <td>0.0</td>\n",
              "      <td>0.458</td>\n",
              "      <td>7.147</td>\n",
              "      <td>54.2</td>\n",
              "      <td>6.0622</td>\n",
              "      <td>3.0</td>\n",
              "      <td>222.0</td>\n",
              "      <td>18.7</td>\n",
              "      <td>396.90</td>\n",
              "      <td>5.33</td>\n",
              "    </tr>\n",
              "  </tbody>\n",
              "</table>\n",
              "</div>"
            ],
            "text/plain": [
              "      CRIM    ZN  INDUS  CHAS    NOX  ...  RAD    TAX  PTRATIO       B  LSTAT\n",
              "0  0.00632  18.0   2.31   0.0  0.538  ...  1.0  296.0     15.3  396.90   4.98\n",
              "1  0.02731   0.0   7.07   0.0  0.469  ...  2.0  242.0     17.8  396.90   9.14\n",
              "2  0.02729   0.0   7.07   0.0  0.469  ...  2.0  242.0     17.8  392.83   4.03\n",
              "3  0.03237   0.0   2.18   0.0  0.458  ...  3.0  222.0     18.7  394.63   2.94\n",
              "4  0.06905   0.0   2.18   0.0  0.458  ...  3.0  222.0     18.7  396.90   5.33\n",
              "\n",
              "[5 rows x 13 columns]"
            ]
          },
          "metadata": {
            "tags": []
          },
          "execution_count": 42
        }
      ]
    },
    {
      "cell_type": "code",
      "metadata": {
        "colab": {
          "base_uri": "https://localhost:8080/"
        },
        "id": "RpEqEAsn7Tb2",
        "outputId": "df61668e-bf82-4228-f15a-67890a74d6a8"
      },
      "source": [
        "X = dataset.iloc[:, :-1] ##Indepedent features\n",
        "y = dataset.iloc[:, -1] #depedent features\n",
        "# X[:50],y[:50]"
      ],
      "execution_count": null,
      "outputs": [
        {
          "output_type": "execute_result",
          "data": {
            "text/plain": [
              "(       CRIM    ZN  INDUS  CHAS    NOX  ...     DIS  RAD    TAX  PTRATIO       B\n",
              " 0   0.00632  18.0   2.31   0.0  0.538  ...  4.0900  1.0  296.0     15.3  396.90\n",
              " 1   0.02731   0.0   7.07   0.0  0.469  ...  4.9671  2.0  242.0     17.8  396.90\n",
              " 2   0.02729   0.0   7.07   0.0  0.469  ...  4.9671  2.0  242.0     17.8  392.83\n",
              " 3   0.03237   0.0   2.18   0.0  0.458  ...  6.0622  3.0  222.0     18.7  394.63\n",
              " 4   0.06905   0.0   2.18   0.0  0.458  ...  6.0622  3.0  222.0     18.7  396.90\n",
              " 5   0.02985   0.0   2.18   0.0  0.458  ...  6.0622  3.0  222.0     18.7  394.12\n",
              " 6   0.08829  12.5   7.87   0.0  0.524  ...  5.5605  5.0  311.0     15.2  395.60\n",
              " 7   0.14455  12.5   7.87   0.0  0.524  ...  5.9505  5.0  311.0     15.2  396.90\n",
              " 8   0.21124  12.5   7.87   0.0  0.524  ...  6.0821  5.0  311.0     15.2  386.63\n",
              " 9   0.17004  12.5   7.87   0.0  0.524  ...  6.5921  5.0  311.0     15.2  386.71\n",
              " 10  0.22489  12.5   7.87   0.0  0.524  ...  6.3467  5.0  311.0     15.2  392.52\n",
              " 11  0.11747  12.5   7.87   0.0  0.524  ...  6.2267  5.0  311.0     15.2  396.90\n",
              " 12  0.09378  12.5   7.87   0.0  0.524  ...  5.4509  5.0  311.0     15.2  390.50\n",
              " 13  0.62976   0.0   8.14   0.0  0.538  ...  4.7075  4.0  307.0     21.0  396.90\n",
              " 14  0.63796   0.0   8.14   0.0  0.538  ...  4.4619  4.0  307.0     21.0  380.02\n",
              " 15  0.62739   0.0   8.14   0.0  0.538  ...  4.4986  4.0  307.0     21.0  395.62\n",
              " 16  1.05393   0.0   8.14   0.0  0.538  ...  4.4986  4.0  307.0     21.0  386.85\n",
              " 17  0.78420   0.0   8.14   0.0  0.538  ...  4.2579  4.0  307.0     21.0  386.75\n",
              " 18  0.80271   0.0   8.14   0.0  0.538  ...  3.7965  4.0  307.0     21.0  288.99\n",
              " 19  0.72580   0.0   8.14   0.0  0.538  ...  3.7965  4.0  307.0     21.0  390.95\n",
              " 20  1.25179   0.0   8.14   0.0  0.538  ...  3.7979  4.0  307.0     21.0  376.57\n",
              " 21  0.85204   0.0   8.14   0.0  0.538  ...  4.0123  4.0  307.0     21.0  392.53\n",
              " 22  1.23247   0.0   8.14   0.0  0.538  ...  3.9769  4.0  307.0     21.0  396.90\n",
              " 23  0.98843   0.0   8.14   0.0  0.538  ...  4.0952  4.0  307.0     21.0  394.54\n",
              " 24  0.75026   0.0   8.14   0.0  0.538  ...  4.3996  4.0  307.0     21.0  394.33\n",
              " 25  0.84054   0.0   8.14   0.0  0.538  ...  4.4546  4.0  307.0     21.0  303.42\n",
              " 26  0.67191   0.0   8.14   0.0  0.538  ...  4.6820  4.0  307.0     21.0  376.88\n",
              " 27  0.95577   0.0   8.14   0.0  0.538  ...  4.4534  4.0  307.0     21.0  306.38\n",
              " 28  0.77299   0.0   8.14   0.0  0.538  ...  4.4547  4.0  307.0     21.0  387.94\n",
              " 29  1.00245   0.0   8.14   0.0  0.538  ...  4.2390  4.0  307.0     21.0  380.23\n",
              " 30  1.13081   0.0   8.14   0.0  0.538  ...  4.2330  4.0  307.0     21.0  360.17\n",
              " 31  1.35472   0.0   8.14   0.0  0.538  ...  4.1750  4.0  307.0     21.0  376.73\n",
              " 32  1.38799   0.0   8.14   0.0  0.538  ...  3.9900  4.0  307.0     21.0  232.60\n",
              " 33  1.15172   0.0   8.14   0.0  0.538  ...  3.7872  4.0  307.0     21.0  358.77\n",
              " 34  1.61282   0.0   8.14   0.0  0.538  ...  3.7598  4.0  307.0     21.0  248.31\n",
              " 35  0.06417   0.0   5.96   0.0  0.499  ...  3.3603  5.0  279.0     19.2  396.90\n",
              " 36  0.09744   0.0   5.96   0.0  0.499  ...  3.3779  5.0  279.0     19.2  377.56\n",
              " 37  0.08014   0.0   5.96   0.0  0.499  ...  3.9342  5.0  279.0     19.2  396.90\n",
              " 38  0.17505   0.0   5.96   0.0  0.499  ...  3.8473  5.0  279.0     19.2  393.43\n",
              " 39  0.02763  75.0   2.95   0.0  0.428  ...  5.4011  3.0  252.0     18.3  395.63\n",
              " 40  0.03359  75.0   2.95   0.0  0.428  ...  5.4011  3.0  252.0     18.3  395.62\n",
              " 41  0.12744   0.0   6.91   0.0  0.448  ...  5.7209  3.0  233.0     17.9  385.41\n",
              " 42  0.14150   0.0   6.91   0.0  0.448  ...  5.7209  3.0  233.0     17.9  383.37\n",
              " 43  0.15936   0.0   6.91   0.0  0.448  ...  5.7209  3.0  233.0     17.9  394.46\n",
              " 44  0.12269   0.0   6.91   0.0  0.448  ...  5.7209  3.0  233.0     17.9  389.39\n",
              " 45  0.17142   0.0   6.91   0.0  0.448  ...  5.1004  3.0  233.0     17.9  396.90\n",
              " 46  0.18836   0.0   6.91   0.0  0.448  ...  5.1004  3.0  233.0     17.9  396.90\n",
              " 47  0.22927   0.0   6.91   0.0  0.448  ...  5.6894  3.0  233.0     17.9  392.74\n",
              " 48  0.25387   0.0   6.91   0.0  0.448  ...  5.8700  3.0  233.0     17.9  396.90\n",
              " 49  0.21977   0.0   6.91   0.0  0.448  ...  6.0877  3.0  233.0     17.9  396.90\n",
              " \n",
              " [50 rows x 12 columns], 0      4.98\n",
              " 1      9.14\n",
              " 2      4.03\n",
              " 3      2.94\n",
              " 4      5.33\n",
              " 5      5.21\n",
              " 6     12.43\n",
              " 7     19.15\n",
              " 8     29.93\n",
              " 9     17.10\n",
              " 10    20.45\n",
              " 11    13.27\n",
              " 12    15.71\n",
              " 13     8.26\n",
              " 14    10.26\n",
              " 15     8.47\n",
              " 16     6.58\n",
              " 17    14.67\n",
              " 18    11.69\n",
              " 19    11.28\n",
              " 20    21.02\n",
              " 21    13.83\n",
              " 22    18.72\n",
              " 23    19.88\n",
              " 24    16.30\n",
              " 25    16.51\n",
              " 26    14.81\n",
              " 27    17.28\n",
              " 28    12.80\n",
              " 29    11.98\n",
              " 30    22.60\n",
              " 31    13.04\n",
              " 32    27.71\n",
              " 33    18.35\n",
              " 34    20.34\n",
              " 35     9.68\n",
              " 36    11.41\n",
              " 37     8.77\n",
              " 38    10.13\n",
              " 39     4.32\n",
              " 40     1.98\n",
              " 41     4.84\n",
              " 42     5.81\n",
              " 43     7.44\n",
              " 44     9.55\n",
              " 45    10.21\n",
              " 46    14.15\n",
              " 47    18.80\n",
              " 48    30.81\n",
              " 49    16.20\n",
              " Name: LSTAT, dtype: float64)"
            ]
          },
          "metadata": {
            "tags": []
          },
          "execution_count": 43
        }
      ]
    },
    {
      "cell_type": "code",
      "metadata": {
        "colab": {
          "base_uri": "https://localhost:8080/"
        },
        "id": "O_mSqKwM7sD-",
        "outputId": "24b82d48-aca6-42a9-d298-c43477d6930c"
      },
      "source": [
        "# X.shape, y.shape"
      ],
      "execution_count": null,
      "outputs": [
        {
          "output_type": "execute_result",
          "data": {
            "text/plain": [
              "((506, 12), (506,))"
            ]
          },
          "metadata": {
            "tags": []
          },
          "execution_count": 47
        }
      ]
    },
    {
      "cell_type": "markdown",
      "metadata": {
        "id": "aOzhe6Q7707N"
      },
      "source": [
        "## Linear Regression"
      ]
    },
    {
      "cell_type": "code",
      "metadata": {
        "id": "4iPdyjX88DjB"
      },
      "source": [
        "# sklearn model_selection cross_val_score\n",
        "from sklearn.model_selection import cross_val_score\n",
        "from sklearn.linear_model import LinearRegression"
      ],
      "execution_count": null,
      "outputs": []
    },
    {
      "cell_type": "code",
      "metadata": {
        "id": "h796ZqH38EL8"
      },
      "source": [
        "linear_regressor = LinearRegression()\n",
        "mse = cross_val_score(linear_regressor,X, y, scoring='neg_mean_squared_error', cv=5)"
      ],
      "execution_count": null,
      "outputs": []
    },
    {
      "cell_type": "code",
      "metadata": {
        "colab": {
          "base_uri": "https://localhost:8080/"
        },
        "id": "CowGO-k58FBM",
        "outputId": "fc6cbae2-39d3-45de-cee6-4c1484929103"
      },
      "source": [
        "lin_regressor, mse, "
      ],
      "execution_count": null,
      "outputs": [
        {
          "output_type": "execute_result",
          "data": {
            "text/plain": [
              "(array([-13.27939793, -24.91249878, -20.65446206, -36.6839687 ,\n",
              "        -37.98096788]),\n",
              " LinearRegression(copy_X=True, fit_intercept=True, n_jobs=None, normalize=False))"
            ]
          },
          "metadata": {
            "tags": []
          },
          "execution_count": 51
        }
      ]
    },
    {
      "cell_type": "code",
      "metadata": {
        "colab": {
          "base_uri": "https://localhost:8080/"
        },
        "id": "wCGcDMjV8FHV",
        "outputId": "cd1abf5d-58a4-40a2-d264-4e2e141a5f7a"
      },
      "source": [
        "mean_mse = np.mean(mse)\n",
        "mean_mse"
      ],
      "execution_count": null,
      "outputs": [
        {
          "output_type": "execute_result",
          "data": {
            "text/plain": [
              "-26.70225907220984"
            ]
          },
          "metadata": {
            "tags": []
          },
          "execution_count": 61
        }
      ]
    },
    {
      "cell_type": "markdown",
      "metadata": {
        "id": "5TPmu_Fj8FLp"
      },
      "source": [
        "## Ridge Regression (L1 regularization)\n",
        "L1 regularization technique is called Lasso Regression and model which uses L2 is called Ridge Regression."
      ]
    },
    {
      "cell_type": "code",
      "metadata": {
        "id": "1ejmsnEz8EVO"
      },
      "source": [
        "# sklean model_selection GridSearchCV\n",
        "from sklearn.linear_model import Ridge\n",
        "from sklearn.model_selection import GridSearchCV\n",
        "ridge = Ridge()"
      ],
      "execution_count": null,
      "outputs": []
    },
    {
      "cell_type": "code",
      "metadata": {
        "colab": {
          "base_uri": "https://localhost:8080/"
        },
        "id": "1zD4h5UZ-KIT",
        "outputId": "15eec743-9a07-4578-bf92-f58e4adbc3f6"
      },
      "source": [
        "ridge"
      ],
      "execution_count": null,
      "outputs": [
        {
          "output_type": "execute_result",
          "data": {
            "text/plain": [
              "Ridge(alpha=1.0, copy_X=True, fit_intercept=True, max_iter=None,\n",
              "      normalize=False, random_state=None, solver='auto', tol=0.001)"
            ]
          },
          "metadata": {
            "tags": []
          },
          "execution_count": 55
        }
      ]
    },
    {
      "cell_type": "code",
      "metadata": {
        "id": "17CFzU2P-K_P"
      },
      "source": [
        "parameters = {'alpha':[1e-15, 1e-10, 1e-8, 1e-3, 1e-2, 1, 5, 10, 20, \n",
        "                       30, 35, 40, 45, 50, 55, 100]}\n",
        "ridge_regressor = GridSearchCV(ridge, parameters, scoring='neg_mean_squared_error', \n",
        "                               cv=5)                       "
      ],
      "execution_count": null,
      "outputs": []
    },
    {
      "cell_type": "code",
      "metadata": {
        "colab": {
          "base_uri": "https://localhost:8080/"
        },
        "id": "0W3g88J-Be4r",
        "outputId": "7d65cb05-f972-4a7a-e178-1ece6632b982"
      },
      "source": [
        "parameters"
      ],
      "execution_count": null,
      "outputs": [
        {
          "output_type": "execute_result",
          "data": {
            "text/plain": [
              "{'alpha': [1e-15,\n",
              "  1e-10,\n",
              "  1e-08,\n",
              "  0.001,\n",
              "  0.01,\n",
              "  1,\n",
              "  5,\n",
              "  10,\n",
              "  20,\n",
              "  30,\n",
              "  35,\n",
              "  40,\n",
              "  45,\n",
              "  50,\n",
              "  55,\n",
              "  100]}"
            ]
          },
          "metadata": {
            "tags": []
          },
          "execution_count": 68
        }
      ]
    },
    {
      "cell_type": "code",
      "metadata": {
        "colab": {
          "base_uri": "https://localhost:8080/"
        },
        "id": "X77HkurG_bB_",
        "outputId": "e8a18553-7c26-44dc-f154-d50c5be3c9da"
      },
      "source": [
        "ridge_regressor.fit(X, y)"
      ],
      "execution_count": null,
      "outputs": [
        {
          "output_type": "execute_result",
          "data": {
            "text/plain": [
              "GridSearchCV(cv=5, error_score=nan,\n",
              "             estimator=Ridge(alpha=1.0, copy_X=True, fit_intercept=True,\n",
              "                             max_iter=None, normalize=False, random_state=None,\n",
              "                             solver='auto', tol=0.001),\n",
              "             iid='deprecated', n_jobs=None,\n",
              "             param_grid={'alpha': [1e-15, 1e-10, 1e-08, 0.001, 0.01, 1, 5, 10,\n",
              "                                   20, 30, 35, 40, 45, 50, 55, 100]},\n",
              "             pre_dispatch='2*n_jobs', refit=True, return_train_score=False,\n",
              "             scoring='neg_mean_squared_error', verbose=0)"
            ]
          },
          "metadata": {
            "tags": []
          },
          "execution_count": 57
        }
      ]
    },
    {
      "cell_type": "code",
      "metadata": {
        "colab": {
          "base_uri": "https://localhost:8080/"
        },
        "id": "8Hb9fIvX_g0C",
        "outputId": "38b4a911-d82a-4e3d-da1a-2464fb123b06"
      },
      "source": [
        "[ ridge_regressor.best_estimator_, ridge_regressor.best_index_,\n",
        " ridge_regressor.best_params_, ridge_regressor.best_score_ ]"
      ],
      "execution_count": null,
      "outputs": [
        {
          "output_type": "execute_result",
          "data": {
            "text/plain": [
              "[Ridge(alpha=100, copy_X=True, fit_intercept=True, max_iter=None,\n",
              "       normalize=False, random_state=None, solver='auto', tol=0.001),\n",
              " 15,\n",
              " {'alpha': 100},\n",
              " -22.967747596932256]"
            ]
          },
          "metadata": {
            "tags": []
          },
          "execution_count": 59
        }
      ]
    },
    {
      "cell_type": "markdown",
      "metadata": {
        "id": "xjQj1ZDL_3zT"
      },
      "source": [
        "## Lasso Regression(L2 regularization)"
      ]
    },
    {
      "cell_type": "code",
      "metadata": {
        "colab": {
          "base_uri": "https://localhost:8080/"
        },
        "id": "U6o1fg-dAQUI",
        "outputId": "fd1a3bf8-c60b-4647-cb9d-5c2078f84430"
      },
      "source": [
        "from sklearn.linear_model import Lasso\n",
        "lasso = Lasso(precompute=True)\n",
        "lasso_regressor = GridSearchCV(lasso, parameters, scoring='neg_mean_squared_error', cv=5,)\n",
        "lasso_regressor.fit(X, y)"
      ],
      "execution_count": null,
      "outputs": [
        {
          "output_type": "stream",
          "text": [
            "/usr/local/lib/python3.7/dist-packages/sklearn/linear_model/_coordinate_descent.py:472: ConvergenceWarning: Objective did not converge. You might want to increase the number of iterations. Duality gap: 3376.929046176207, tolerance: 2.205170830569307\n",
            "  tol, rng, random, positive)\n",
            "/usr/local/lib/python3.7/dist-packages/sklearn/linear_model/_coordinate_descent.py:472: ConvergenceWarning: Objective did not converge. You might want to increase the number of iterations. Duality gap: 3365.5255098897796, tolerance: 2.077624032\n",
            "  tol, rng, random, positive)\n",
            "/usr/local/lib/python3.7/dist-packages/sklearn/linear_model/_coordinate_descent.py:472: ConvergenceWarning: Objective did not converge. You might want to increase the number of iterations. Duality gap: 3302.108815614, tolerance: 2.112585517382716\n",
            "  tol, rng, random, positive)\n",
            "/usr/local/lib/python3.7/dist-packages/sklearn/linear_model/_coordinate_descent.py:472: ConvergenceWarning: Objective did not converge. You might want to increase the number of iterations. Duality gap: 2699.0344813052884, tolerance: 1.8864144117530866\n",
            "  tol, rng, random, positive)\n",
            "/usr/local/lib/python3.7/dist-packages/sklearn/linear_model/_coordinate_descent.py:472: ConvergenceWarning: Objective did not converge. You might want to increase the number of iterations. Duality gap: 2946.2097365771137, tolerance: 1.9019302631111115\n",
            "  tol, rng, random, positive)\n"
          ],
          "name": "stderr"
        },
        {
          "output_type": "execute_result",
          "data": {
            "text/plain": [
              "-22.841784268980334"
            ]
          },
          "metadata": {
            "tags": []
          },
          "execution_count": 105
        }
      ]
    },
    {
      "cell_type": "code",
      "metadata": {
        "colab": {
          "base_uri": "https://localhost:8080/"
        },
        "id": "jF616RsEAQ2D",
        "outputId": "893b8109-128c-487a-9eaa-507a894996cf"
      },
      "source": [
        "lasso_regressor.best_params_, lasso_regressor.best_score_, "
      ],
      "execution_count": null,
      "outputs": [
        {
          "output_type": "execute_result",
          "data": {
            "text/plain": [
              "({'alpha': 1}, -22.841784268980334)"
            ]
          },
          "metadata": {
            "tags": []
          },
          "execution_count": 108
        }
      ]
    },
    {
      "cell_type": "markdown",
      "metadata": {
        "id": "ixZe7lYaFLdA"
      },
      "source": [
        "## train_test_split"
      ]
    },
    {
      "cell_type": "code",
      "metadata": {
        "id": "Kh6NXR9XCL49"
      },
      "source": [
        "from sklearn.model_selection import train_test_split"
      ],
      "execution_count": null,
      "outputs": []
    },
    {
      "cell_type": "code",
      "metadata": {
        "id": "owBfLZz2GB03"
      },
      "source": [
        "X_train, X_test, y_train, y_test = train_test_split(X, y, test_size=0.3, \n",
        "                                                    random_state=0)"
      ],
      "execution_count": null,
      "outputs": []
    },
    {
      "cell_type": "code",
      "metadata": {
        "colab": {
          "base_uri": "https://localhost:8080/"
        },
        "id": "U1xElOO9GasN",
        "outputId": "567e371a-e274-46bc-c4e8-c8ba2241eef8"
      },
      "source": [
        "linear_regressor.fit(X_train, y_train)\n",
        "lasso_regressor.fit(X_train, y_train)\n",
        "ridge_regressor.fit(X_train, y_train)"
      ],
      "execution_count": null,
      "outputs": [
        {
          "output_type": "stream",
          "text": [
            "/usr/local/lib/python3.7/dist-packages/sklearn/linear_model/_coordinate_descent.py:472: ConvergenceWarning: Objective did not converge. You might want to increase the number of iterations. Duality gap: 2210.7421764765813, tolerance: 1.4393020467844524\n",
            "  tol, rng, random, positive)\n",
            "/usr/local/lib/python3.7/dist-packages/sklearn/linear_model/_coordinate_descent.py:472: ConvergenceWarning: Objective did not converge. You might want to increase the number of iterations. Duality gap: 2084.9320369178936, tolerance: 1.4483647267137811\n",
            "  tol, rng, random, positive)\n",
            "/usr/local/lib/python3.7/dist-packages/sklearn/linear_model/_coordinate_descent.py:472: ConvergenceWarning: Objective did not converge. You might want to increase the number of iterations. Duality gap: 2161.794506164691, tolerance: 1.4632730463604242\n",
            "  tol, rng, random, positive)\n",
            "/usr/local/lib/python3.7/dist-packages/sklearn/linear_model/_coordinate_descent.py:472: ConvergenceWarning: Objective did not converge. You might want to increase the number of iterations. Duality gap: 1944.4552423750774, tolerance: 1.3193468924381624\n",
            "  tol, rng, random, positive)\n",
            "/usr/local/lib/python3.7/dist-packages/sklearn/linear_model/_coordinate_descent.py:472: ConvergenceWarning: Objective did not converge. You might want to increase the number of iterations. Duality gap: 2253.5687820759626, tolerance: 1.4027078812323948\n",
            "  tol, rng, random, positive)\n"
          ],
          "name": "stderr"
        },
        {
          "output_type": "execute_result",
          "data": {
            "text/plain": [
              "GridSearchCV(cv=5, error_score=nan,\n",
              "             estimator=Ridge(alpha=1.0, copy_X=True, fit_intercept=True,\n",
              "                             max_iter=None, normalize=False, random_state=None,\n",
              "                             solver='auto', tol=0.001),\n",
              "             iid='deprecated', n_jobs=None,\n",
              "             param_grid={'alpha': [1e-15, 1e-10, 1e-08, 0.001, 0.01, 1, 5, 10,\n",
              "                                   20, 30, 35, 40, 45, 50, 55, 100]},\n",
              "             pre_dispatch='2*n_jobs', refit=True, return_train_score=False,\n",
              "             scoring='neg_mean_squared_error', verbose=0)"
            ]
          },
          "metadata": {
            "tags": []
          },
          "execution_count": 129
        }
      ]
    },
    {
      "cell_type": "code",
      "metadata": {
        "id": "Wu2M5vsjGstr"
      },
      "source": [
        "pred_linear = linear_regressor.predict(X_test)\n",
        "pred_lasso = lasso_regressor.predict(X_test)\n",
        "pred_ridge = ridge_regressor.predict(X_test)"
      ],
      "execution_count": null,
      "outputs": []
    },
    {
      "cell_type": "code",
      "metadata": {
        "colab": {
          "base_uri": "https://localhost:8080/"
        },
        "id": "TBdShcgBJCEN",
        "outputId": "08a0d36d-24ce-4b1c-8782-f124e5f3eddc"
      },
      "source": [
        "pred_linear[:5]"
      ],
      "execution_count": null,
      "outputs": [
        {
          "output_type": "execute_result",
          "data": {
            "text/plain": [
              "array([ 5.33535341, 17.12431015, 12.61220857, 22.53140994, 10.35867022])"
            ]
          },
          "metadata": {
            "tags": []
          },
          "execution_count": 131
        }
      ]
    },
    {
      "cell_type": "code",
      "metadata": {
        "colab": {
          "base_uri": "https://localhost:8080/"
        },
        "id": "3GEuuZhWHZ9C",
        "outputId": "ae20b5aa-cbac-4f7b-a51d-0200514196d3"
      },
      "source": [
        "pred_lasso[:5]"
      ],
      "execution_count": null,
      "outputs": [
        {
          "output_type": "execute_result",
          "data": {
            "text/plain": [
              "array([ 5.32831146, 17.28655595, 12.88495353, 22.49501758, 10.58983303])"
            ]
          },
          "metadata": {
            "tags": []
          },
          "execution_count": 132
        }
      ]
    },
    {
      "cell_type": "code",
      "metadata": {
        "colab": {
          "base_uri": "https://localhost:8080/"
        },
        "id": "yKYPiME8IANO",
        "outputId": "6277d8a4-9522-42fb-86a1-50cc63ce6de7"
      },
      "source": [
        "pred_ridge[:5]"
      ],
      "execution_count": null,
      "outputs": [
        {
          "output_type": "execute_result",
          "data": {
            "text/plain": [
              "array([ 5.31835652, 17.26024645, 12.82545116, 22.40253712, 10.57616719])"
            ]
          },
          "metadata": {
            "tags": []
          },
          "execution_count": 133
        }
      ]
    },
    {
      "cell_type": "code",
      "metadata": {
        "id": "K0IuDhZCKOhf",
        "colab": {
          "base_uri": "https://localhost:8080/",
          "height": 350
        },
        "outputId": "420f1c48-783f-4ac7-823e-933840c512ea"
      },
      "source": [
        "sns.distplot(y_test - pred_linear)"
      ],
      "execution_count": null,
      "outputs": [
        {
          "output_type": "stream",
          "text": [
            "/usr/local/lib/python3.7/dist-packages/seaborn/distributions.py:2557: FutureWarning: `distplot` is a deprecated function and will be removed in a future version. Please adapt your code to use either `displot` (a figure-level function with similar flexibility) or `histplot` (an axes-level function for histograms).\n",
            "  warnings.warn(msg, FutureWarning)\n"
          ],
          "name": "stderr"
        },
        {
          "output_type": "execute_result",
          "data": {
            "text/plain": [
              "<matplotlib.axes._subplots.AxesSubplot at 0x7f2b964b5fd0>"
            ]
          },
          "metadata": {
            "tags": []
          },
          "execution_count": 145
        },
        {
          "output_type": "display_data",
          "data": {
            "image/png": "[encoded data removed]",
            "text/plain": [
              "<Figure size 432x288 with 1 Axes>"
            ]
          },
          "metadata": {
            "tags": []
          }
        }
      ]
    },
    {
      "cell_type": "code",
      "metadata": {
        "colab": {
          "base_uri": "https://localhost:8080/",
          "height": 350
        },
        "id": "qm_aRvrUIHD9",
        "outputId": "8513ad14-79d0-4e08-f974-ce2fd71b140c"
      },
      "source": [
        "#displot\n",
        "sns.distplot(y_test - pred_lasso)"
      ],
      "execution_count": null,
      "outputs": [
        {
          "output_type": "stream",
          "text": [
            "/usr/local/lib/python3.7/dist-packages/seaborn/distributions.py:2557: FutureWarning: `distplot` is a deprecated function and will be removed in a future version. Please adapt your code to use either `displot` (a figure-level function with similar flexibility) or `histplot` (an axes-level function for histograms).\n",
            "  warnings.warn(msg, FutureWarning)\n"
          ],
          "name": "stderr"
        },
        {
          "output_type": "execute_result",
          "data": {
            "text/plain": [
              "<matplotlib.axes._subplots.AxesSubplot at 0x7f2b965a2610>"
            ]
          },
          "metadata": {
            "tags": []
          },
          "execution_count": 144
        },
        {
          "output_type": "display_data",
          "data": {
            "image/png": "[encoded data removed]",
            "text/plain": [
              "<Figure size 432x288 with 1 Axes>"
            ]
          },
          "metadata": {
            "tags": []
          }
        }
      ]
    },
    {
      "cell_type": "code",
      "metadata": {
        "colab": {
          "base_uri": "https://localhost:8080/",
          "height": 350
        },
        "id": "4lMfXX_8Hfoy",
        "outputId": "4aa65373-798a-47fb-e1a3-716625feaf1c"
      },
      "source": [
        "sns.distplot(y_test - pred_ridge)"
      ],
      "execution_count": null,
      "outputs": [
        {
          "output_type": "stream",
          "text": [
            "/usr/local/lib/python3.7/dist-packages/seaborn/distributions.py:2557: FutureWarning: `distplot` is a deprecated function and will be removed in a future version. Please adapt your code to use either `displot` (a figure-level function with similar flexibility) or `histplot` (an axes-level function for histograms).\n",
            "  warnings.warn(msg, FutureWarning)\n"
          ],
          "name": "stderr"
        },
        {
          "output_type": "execute_result",
          "data": {
            "text/plain": [
              "<matplotlib.axes._subplots.AxesSubplot at 0x7f2ba1f2c710>"
            ]
          },
          "metadata": {
            "tags": []
          },
          "execution_count": 143
        },
        {
          "output_type": "display_data",
          "data": {
            "image/png": "[encoded data removed]",
            "text/plain": [
              "<Figure size 432x288 with 1 Axes>"
            ]
          },
          "metadata": {
            "tags": []
          }
        }
      ]
    },
    {
      "cell_type": "code",
      "metadata": {
        "id": "fmjaOtflKLX-"
      },
      "source": [
        ""
      ],
      "execution_count": null,
      "outputs": []
    }
  ]
}